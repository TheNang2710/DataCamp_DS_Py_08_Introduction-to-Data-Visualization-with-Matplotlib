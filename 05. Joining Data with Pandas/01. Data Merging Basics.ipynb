{
 "cells": [
  {
   "cell_type": "markdown",
   "id": "fe76b516",
   "metadata": {},
   "source": [
    "# Your first inner join"
   ]
  },
  {
   "cell_type": "code",
   "execution_count": null,
   "id": "48e2539f",
   "metadata": {},
   "outputs": [],
   "source": [
    "# Merge the taxi_owners and taxi_veh tables\n",
    "taxi_own_veh = taxi_owners.merge(taxi_veh,on='vid')\n",
    "\n",
    "# Print the column names of the taxi_own_veh\n",
    "print(taxi_own_veh.columns)"
   ]
  },
  {
   "cell_type": "raw",
   "id": "b87a8e34",
   "metadata": {},
   "source": [
    "Index(['rid', 'vid', 'owner_x', 'address', 'zip', 'make', 'model', 'year', 'fuel_type', 'owner_y'], dtype='object')"
   ]
  },
  {
   "cell_type": "code",
   "execution_count": null,
   "id": "d6dff451",
   "metadata": {},
   "outputs": [],
   "source": [
    "# Merge the taxi_owners and taxi_veh tables setting a suffix\n",
    "taxi_own_veh = taxi_owners.merge(taxi_veh, on='vid', suffixes=(\"_own\",\"_veh\"))\n",
    "\n",
    "# Print the column names of taxi_own_veh\n",
    "print(taxi_own_veh.columns)"
   ]
  },
  {
   "cell_type": "raw",
   "id": "630beee5",
   "metadata": {},
   "source": [
    "Index(['rid', 'vid', 'owner_own', 'address', 'zip', 'make', 'model', 'year', 'fuel_type', 'owner_veh'], dtype='object')"
   ]
  },
  {
   "cell_type": "code",
   "execution_count": null,
   "id": "ecc6a4cb",
   "metadata": {},
   "outputs": [],
   "source": [
    "# Merge the taxi_owners and taxi_veh tables setting a suffix\n",
    "taxi_own_veh = taxi_owners.merge(taxi_veh, on='vid', suffixes=('_own','_veh'))\n",
    "\n",
    "# Print the value_counts to find the most popular fuel_type\n",
    "print(taxi_own_veh['fuel_type'].value_counts())"
   ]
  },
  {
   "cell_type": "raw",
   "id": "1c14f0c9",
   "metadata": {},
   "source": [
    "HYBRID                    2792\n",
    "GASOLINE                   611\n",
    "FLEX FUEL                   89\n",
    "COMPRESSED NATURAL GAS      27\n",
    "Name: fuel_type, dtype: int64"
   ]
  },
  {
   "cell_type": "markdown",
   "id": "cf43598f",
   "metadata": {},
   "source": [
    "# Inner joins and number of rows returned"
   ]
  },
  {
   "cell_type": "code",
   "execution_count": null,
   "id": "73f1f0e6",
   "metadata": {},
   "outputs": [],
   "source": [
    "# Merge the wards and census tables on the ward column\n",
    "wards_census = wards.merge(census,on='ward')\n",
    "\n",
    "# Print the shape of wards_census\n",
    "print('wards_census table shape:', wards_census.shape)"
   ]
  },
  {
   "cell_type": "raw",
   "id": "2f616eaf",
   "metadata": {},
   "source": [
    "wards_census table shape: (50, 9)"
   ]
  },
  {
   "cell_type": "code",
   "execution_count": null,
   "id": "293b1015",
   "metadata": {},
   "outputs": [],
   "source": [
    "# Print the first few rows of the wards_altered table to view the change \n",
    "print(wards_altered[['ward']].head())\n",
    "\n",
    "# Merge the wards_altered and census tables on the ward column\n",
    "wards_altered_census = wards_altered.merge(census, on='ward')\n",
    "\n",
    "# Print the shape of wards_altered_census\n",
    "print('wards_altered_census table shape:', wards_altered_census.shape)"
   ]
  },
  {
   "cell_type": "raw",
   "id": "628e1fe8",
   "metadata": {},
   "source": [
    "  ward\n",
    "0   61\n",
    "1    2\n",
    "2    3\n",
    "3    4\n",
    "4    5\n",
    "wards_altered_census table shape: (49, 9)"
   ]
  },
  {
   "cell_type": "code",
   "execution_count": null,
   "id": "3451f20c",
   "metadata": {},
   "outputs": [],
   "source": [
    "# Print the first few rows of the census_altered table to view the change \n",
    "print(census_altered[['ward']].head())\n",
    "\n",
    "# Merge the wards and census_altered tables on the ward column\n",
    "wards_census_altered = wards.merge(census_altered,on='ward')\n",
    "\n",
    "# Print the shape of wards_census_altered\n",
    "print('wards_census_altered table shape:', wards_census_altered.shape)"
   ]
  },
  {
   "cell_type": "raw",
   "id": "d47206ea",
   "metadata": {},
   "source": [
    "   ward\n",
    "0  None\n",
    "1     2\n",
    "2     3\n",
    "3     4\n",
    "4     5\n",
    "wards_census_altered table shape: (49, 9)"
   ]
  },
  {
   "cell_type": "code",
   "execution_count": null,
   "id": "aa9ea589",
   "metadata": {},
   "outputs": [],
   "source": [
    "# Merge the licenses and biz_owners table on account\n",
    "licenses_owners = licenses.merge(biz_owners, on='account')\n",
    "\n",
    "# Group the results by title then count the number of accounts\n",
    "counted_df = licenses_owners.groupby('title').agg({'account':'count'})\n",
    "\n",
    "# Sort the counted_df in desending order\n",
    "sorted_df = counted_df.sort_values('account',ascending=False)\n",
    "\n",
    "# Use .head() method to print the first few rows of sorted_df\n",
    "print(sorted_df.head())"
   ]
  },
  {
   "cell_type": "raw",
   "id": "533e42e9",
   "metadata": {},
   "source": [
    "                 account\n",
    "title                   \n",
    "PRESIDENT           6259\n",
    "SECRETARY           5205\n",
    "SOLE PROPRIETOR     1658\n",
    "OTHER               1200\n",
    "VICE PRESIDENT       970"
   ]
  },
  {
   "cell_type": "markdown",
   "id": "3ee1f9a4",
   "metadata": {},
   "source": [
    "# Total rides in a month"
   ]
  },
  {
   "cell_type": "code",
   "execution_count": null,
   "id": "1382f7a4",
   "metadata": {},
   "outputs": [],
   "source": [
    "# Merge the ridership and cal tables\n",
    "ridership_cal = ridership.merge(cal, on=['year','month','day'])"
   ]
  },
  {
   "cell_type": "code",
   "execution_count": null,
   "id": "f22f38d2",
   "metadata": {},
   "outputs": [],
   "source": [
    "# Merge the ridership, cal, and stations tables\n",
    "ridership_cal_stations = ridership.merge(cal, on=['year','month','day']) \\\n",
    "            \t\t\t\t.merge(stations, on='station_id')"
   ]
  },
  {
   "cell_type": "code",
   "execution_count": null,
   "id": "ada6b79f",
   "metadata": {},
   "outputs": [],
   "source": [
    "# Merge the ridership, cal, and stations tables\n",
    "ridership_cal_stations = ridership.merge(cal, on=['year','month','day']) \\\n",
    "\t\t\t\t\t\t\t.merge(stations, on='station_id')\n",
    "\n",
    "# Create a filter to filter ridership_cal_stations\n",
    "filter_criteria = ((ridership_cal_stations['month'] == 7) \n",
    "                   & (ridership_cal_stations['day_type'] == 'Weekday') \n",
    "                   & (ridership_cal_stations['station_name'] == 'Wilson'))\n",
    "\n",
    "# Use .loc and the filter to select for rides\n",
    "print(ridership_cal_stations.loc[filter_criteria, 'rides'].sum())"
   ]
  },
  {
   "cell_type": "raw",
   "id": "c7c8a70c",
   "metadata": {},
   "source": [
    " 140005"
   ]
  },
  {
   "cell_type": "markdown",
   "id": "9afeeb16",
   "metadata": {},
   "source": [
    "# Three table merge"
   ]
  },
  {
   "cell_type": "code",
   "execution_count": null,
   "id": "f8231137",
   "metadata": {},
   "outputs": [],
   "source": [
    "# Merge licenses and zip_demo, on zip; and merge the wards on ward\n",
    "licenses_zip_ward = licenses.merge(zip_demo, on='zip') \\\n",
    "            \t\t\t.merge(wards, on='ward')\n",
    "\n",
    "# Print the results by alderman and show median income\n",
    "print(licenses_zip_ward.groupby('alderman').agg({'income':'median'}))"
   ]
  },
  {
   "cell_type": "raw",
   "id": "9bb0fd0b",
   "metadata": {},
   "source": [
    "                             income\n",
    "alderman                           \n",
    "Ameya Pawar                 66246.0\n",
    "Anthony A. Beale            38206.0\n",
    "Anthony V. Napolitano       82226.0\n",
    "Ariel E. Reyboras           41307.0\n",
    "Brendan Reilly             110215.0\n",
    "Brian Hopkins               87143.0\n",
    "Carlos Ramirez-Rosa         66246.0\n",
    "Carrie M. Austin            38206.0\n",
    "Chris Taliaferro            55566.0\n",
    "Daniel \"Danny\" Solis        41226.0\n",
    "David H. Moore              33304.0\n",
    "Deborah Mell                66246.0\n",
    "Debra L. Silverstein        50554.0\n",
    "Derrick G. Curtis           65770.0\n",
    "Edward M. Burke             42335.0\n",
    "Emma M. Mitts               36283.0\n",
    "George Cardenas             33959.0\n",
    "Gilbert Villegas            41307.0\n",
    "Gregory I. Mitchell         24941.0\n",
    "Harry Osterman              45442.0\n",
    "Howard B. Brookins, Jr.     33304.0\n",
    "James Cappleman             79565.0\n",
    "Jason C. Ervin              41226.0\n",
    "Joe Moore                   39163.0\n",
    "John S. Arena               70122.0\n",
    "Leslie A. Hairston          28024.0\n",
    "Margaret Laurino            70122.0\n",
    "Marty Quinn                 67045.0\n",
    "Matthew J. O'Shea           59488.0\n",
    "Michael R. Zalewski         42335.0\n",
    "Michael Scott, Jr.          31445.0\n",
    "Michelle A. Harris          32558.0\n",
    "Michelle Smith             100116.0\n",
    "Milagros \"Milly\" Santiago   41307.0\n",
    "Nicholas Sposato            62223.0\n",
    "Pat Dowell                  46340.0\n",
    "Patrick Daley Thompson      41226.0\n",
    "Patrick J. O'Connor         50554.0\n",
    "Proco \"Joe\" Moreno          87143.0\n",
    "Raymond A. Lopez            33959.0\n",
    "Ricardo Munoz               31445.0\n",
    "Roberto Maldonado           68223.0\n",
    "Roderick T. Sawyer          32558.0\n",
    "Scott Waguespack            68223.0\n",
    "Susan Sadlowski Garza       38417.0\n",
    "Tom Tunney                  88708.0\n",
    "Toni L. Foulkes             27573.0\n",
    "Walter Burnett, Jr.         87143.0\n",
    "William D. Burns           107811.0\n",
    "Willie B. Cochran           28024.0"
   ]
  },
  {
   "cell_type": "markdown",
   "id": "5a4ced32",
   "metadata": {},
   "source": [
    "# One-to-many merge with multiple tables"
   ]
  },
  {
   "cell_type": "code",
   "execution_count": null,
   "id": "f9d93841",
   "metadata": {},
   "outputs": [],
   "source": [
    "# Merge land_use and census and merge result with licenses including suffixes\n",
    "land_cen_lic = land_use.merge(census,on='ward').merge(licenses, on='ward', suffixes = ('_cen','_lic'))"
   ]
  },
  {
   "cell_type": "code",
   "execution_count": null,
   "id": "ff3f1424",
   "metadata": {},
   "outputs": [],
   "source": [
    "# Merge land_use and census and merge result with licenses including suffixes\n",
    "land_cen_lic = land_use.merge(census, on='ward') \\\n",
    "                    .merge(licenses, on='ward', suffixes=('_cen','_lic'))\n",
    "\n",
    "# Group by ward, pop_2010, and vacant, then count the # of accounts\n",
    "pop_vac_lic = land_cen_lic.groupby(['ward','pop_2010','vacant'], \n",
    "                                   as_index=False).agg({'account':'count'})"
   ]
  },
  {
   "cell_type": "code",
   "execution_count": null,
   "id": "d5af62c5",
   "metadata": {},
   "outputs": [],
   "source": [
    "# Merge land_use and census and merge result with licenses including suffixes\n",
    "land_cen_lic = land_use.merge(census, on='ward') \\\n",
    "                    .merge(licenses, on='ward', suffixes=('_cen','_lic'))\n",
    "\n",
    "# Group by ward, pop_2010, and vacant, then count the # of accounts\n",
    "pop_vac_lic = land_cen_lic.groupby(['ward','pop_2010','vacant'], \n",
    "                                   as_index=False).agg({'account':'count'})\n",
    "\n",
    "# Sort pop_vac_lic and print the results\n",
    "sorted_pop_vac_lic = pop_vac_lic.sort_values(['vacant','account','pop_2010'], \n",
    "                                             ascending=[False,True,True])\n",
    "\n",
    "# Print the top few rows of sorted_pop_vac_lic\n",
    "print(sorted_pop_vac_lic.head())"
   ]
  },
  {
   "cell_type": "raw",
   "id": "490fbcf3",
   "metadata": {},
   "source": [
    "   ward  pop_2010  vacant  account\n",
    "47    7     51581      19       80\n",
    "12   20     52372      15      123\n",
    "1    10     51535      14      130\n",
    "16   24     54909      13       98\n",
    "7    16     51954      13      156"
   ]
  }
 ],
 "metadata": {
  "kernelspec": {
   "display_name": "Python 3",
   "language": "python",
   "name": "python3"
  },
  "language_info": {
   "codemirror_mode": {
    "name": "ipython",
    "version": 3
   },
   "file_extension": ".py",
   "mimetype": "text/x-python",
   "name": "python",
   "nbconvert_exporter": "python",
   "pygments_lexer": "ipython3",
   "version": "3.8.8"
  }
 },
 "nbformat": 4,
 "nbformat_minor": 5
}
