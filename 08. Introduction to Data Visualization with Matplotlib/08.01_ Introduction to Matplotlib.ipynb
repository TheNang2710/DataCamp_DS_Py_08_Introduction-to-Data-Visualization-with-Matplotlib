{
 "cells": [
  {
   "cell_type": "markdown",
   "id": "4eddb4c7",
   "metadata": {},
   "source": [
    "# Using the matplotlib.pyplot interface"
   ]
  },
  {
   "cell_type": "code",
   "execution_count": null,
   "id": "7841e865",
   "metadata": {},
   "outputs": [],
   "source": [
    "# Import the matplotlib.pyplot submodule and name it plt\n",
    "import matplotlib.pyplot as plt\n",
    "\n",
    "# Create a Figure and an Axes with plt.subplots\n",
    "fig, ax = plt.subplots()\n",
    "\n",
    "# Call the show function to show the result\n",
    "plt.show()"
   ]
  },
  {
   "cell_type": "markdown",
   "id": "4020afbe",
   "metadata": {},
   "source": [
    "# Adding data to an Axes object"
   ]
  },
  {
   "cell_type": "code",
   "execution_count": null,
   "id": "d4d15a99",
   "metadata": {},
   "outputs": [],
   "source": []
  }
 ],
 "metadata": {
  "kernelspec": {
   "display_name": "Python 3",
   "language": "python",
   "name": "python3"
  },
  "language_info": {
   "codemirror_mode": {
    "name": "ipython",
    "version": 3
   },
   "file_extension": ".py",
   "mimetype": "text/x-python",
   "name": "python",
   "nbconvert_exporter": "python",
   "pygments_lexer": "ipython3",
   "version": "3.8.8"
  }
 },
 "nbformat": 4,
 "nbformat_minor": 5
}
